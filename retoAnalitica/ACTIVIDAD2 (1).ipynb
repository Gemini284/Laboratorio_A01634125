{
 "cells": [
  {
   "cell_type": "code",
   "execution_count": null,
   "id": "e35ef395",
   "metadata": {},
   "outputs": [],
   "source": [
    "import pandas as pd\n",
    "#import numpy as np\n",
    "from matplotlib import pyplot as plt\n",
    "#import random"
   ]
  },
  {
   "cell_type": "code",
   "execution_count": null,
   "id": "84c94fe6",
   "metadata": {},
   "outputs": [],
   "source": [
    "df = pd.read_csv(\"delitos-por-feminicidio-en-jalisco-por-municipio-2016-2021.csv\")\n"
   ]
  },
  {
   "cell_type": "code",
   "execution_count": 1,
   "id": "7c2f941f",
   "metadata": {},
   "outputs": [
    {
     "ename": "NameError",
     "evalue": "name 'df' is not defined",
     "output_type": "error",
     "traceback": [
      "\u001b[0;31m---------------------------------------------------------------------------\u001b[0m",
      "\u001b[0;31mNameError\u001b[0m                                 Traceback (most recent call last)",
      "\u001b[0;32m/var/folders/rj/gcpc_kfx5zqdtyvgmqvpn29r0000gn/T/ipykernel_22743/857714779.py\u001b[0m in \u001b[0;36m<module>\u001b[0;34m\u001b[0m\n\u001b[0;32m----> 1\u001b[0;31m \u001b[0mdf\u001b[0m\u001b[0;34m.\u001b[0m\u001b[0mshape\u001b[0m\u001b[0;34m\u001b[0m\u001b[0;34m\u001b[0m\u001b[0m\n\u001b[0m",
      "\u001b[0;31mNameError\u001b[0m: name 'df' is not defined"
     ]
    }
   ],
   "source": [
    "df.shape"
   ]
  },
  {
   "cell_type": "code",
   "execution_count": null,
   "id": "bd484920",
   "metadata": {},
   "outputs": [],
   "source": [
    "df.info()"
   ]
  },
  {
   "cell_type": "code",
   "execution_count": null,
   "id": "b96dfb82",
   "metadata": {},
   "outputs": [],
   "source": [
    "df.columns"
   ]
  },
  {
   "cell_type": "code",
   "execution_count": null,
   "id": "bc8cbc64",
   "metadata": {},
   "outputs": [],
   "source": [
    "#df = df.drop('Unnamed: 0', axis=1)\n",
    "df.head()"
   ]
  },
  {
   "cell_type": "code",
   "execution_count": null,
   "id": "9a24b088",
   "metadata": {},
   "outputs": [],
   "source": [
    "df.describe()"
   ]
  },
  {
   "cell_type": "code",
   "execution_count": null,
   "id": "bcec41e9",
   "metadata": {},
   "outputs": [],
   "source": [
    "more_than_2 = df[df['Feminicidios'] > 2]\n",
    "more_than_2.head(80)"
   ]
  },
  {
   "cell_type": "code",
   "execution_count": null,
   "id": "b1ffe104",
   "metadata": {},
   "outputs": [],
   "source": [
    "double_filter = df[(df['Feminicidios'] > 2) & (df['Año'] = 2020)]\n",
    "double_filter.head(4)"
   ]
  },
  {
   "cell_type": "code",
   "execution_count": null,
   "id": "bc4a901c",
   "metadata": {},
   "outputs": [],
   "source": [
    "#MEDIA\n",
    "print('Media: ', df['Feminicidios'].mean())"
   ]
  },
  {
   "cell_type": "code",
   "execution_count": null,
   "id": "191bdce4",
   "metadata": {},
   "outputs": [],
   "source": [
    "#MEDIANA\n",
    "print('Mediana:', df['Feminicidios'].median())"
   ]
  },
  {
   "cell_type": "code",
   "execution_count": null,
   "id": "2cb5c6c8",
   "metadata": {},
   "outputs": [],
   "source": [
    "#DESVIACION ESTANDAR\n",
    "print('Varianza: ', df['Feminicidios'].var())\n",
    "print('Desviación estándar: ', df['Feminicidios'].std())"
   ]
  }
 ],
 "metadata": {
  "kernelspec": {
   "display_name": "Python 3 (ipykernel)",
   "language": "python",
   "name": "python3"
  },
  "language_info": {
   "codemirror_mode": {
    "name": "ipython",
    "version": 3
   },
   "file_extension": ".py",
   "mimetype": "text/x-python",
   "name": "python",
   "nbconvert_exporter": "python",
   "pygments_lexer": "ipython3",
   "version": "3.9.7"
  }
 },
 "nbformat": 4,
 "nbformat_minor": 5
}
